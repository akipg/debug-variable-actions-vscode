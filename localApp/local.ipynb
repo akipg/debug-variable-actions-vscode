{
 "cells": [
  {
   "cell_type": "code",
   "execution_count": 7,
   "metadata": {},
   "outputs": [],
   "source": [
    "from pathlib import Path\n",
    "import os\n",
    "APPDATA = os.environ[\"APPDATA\"]\n",
    "extensionUri = Path(f\"{APPDATA}\\\\Code\\\\User\\\\workspaceStorage\\\\9e945dd1c70d62ceffb1ab39d02775c0\\\\undefined_publisher.debug-variable-right-click-actions\")\n",
    "if not extensionUri.exists():\n",
    "    raise FileNotFoundError(f\"Extension not found at {extensionUri}\")"
   ]
  },
  {
   "cell_type": "code",
   "execution_count": 9,
   "metadata": {},
   "outputs": [],
   "source": [
    "# get latest directory\n",
    "latestDir = max(extensionUri.glob('*'), key=lambda d: d.stat().st_ctime)"
   ]
  },
  {
   "cell_type": "code",
   "execution_count": 11,
   "metadata": {},
   "outputs": [],
   "source": [
    "import json\n",
    "\n",
    "metaJsonPaths = latestDir.glob('**/*.meta.json')\n",
    "json_data = []\n",
    "for metaJsonPath in metaJsonPaths:\n",
    "    metaJson = json.loads(metaJsonPath.read_text())\n",
    "    json_data.append(metaJson)\n"
   ]
  },
  {
   "cell_type": "code",
   "execution_count": 12,
   "metadata": {},
   "outputs": [
    {
     "ename": "KeyError",
     "evalue": "'source'",
     "output_type": "error",
     "traceback": [
      "\u001b[1;31m---------------------------------------------------------------------------\u001b[0m",
      "\u001b[1;31mKeyError\u001b[0m                                  Traceback (most recent call last)",
      "Cell \u001b[1;32mIn[12], line 10\u001b[0m\n\u001b[0;32m      7\u001b[0m     \u001b[38;5;28;01mreturn\u001b[39;00m mermaid_code\n\u001b[0;32m      9\u001b[0m \u001b[38;5;66;03m# Generate Mermaid code\u001b[39;00m\n\u001b[1;32m---> 10\u001b[0m mermaid_code \u001b[38;5;241m=\u001b[39m \u001b[43mgenerate_mermaid_sequence\u001b[49m\u001b[43m(\u001b[49m\u001b[43mjson_data\u001b[49m\u001b[43m)\u001b[49m\n\u001b[0;32m     12\u001b[0m \u001b[38;5;66;03m# Output the Mermaid code\u001b[39;00m\n\u001b[0;32m     13\u001b[0m \u001b[38;5;28mprint\u001b[39m(mermaid_code)\n",
      "Cell \u001b[1;32mIn[12], line 5\u001b[0m, in \u001b[0;36mgenerate_mermaid_sequence\u001b[1;34m(json_data)\u001b[0m\n\u001b[0;32m      3\u001b[0m mermaid_code \u001b[38;5;241m=\u001b[39m \u001b[38;5;124m\"\u001b[39m\u001b[38;5;124msequenceDiagram\u001b[39m\u001b[38;5;130;01m\\n\u001b[39;00m\u001b[38;5;124m\"\u001b[39m\n\u001b[0;32m      4\u001b[0m \u001b[38;5;28;01mfor\u001b[39;00m frame \u001b[38;5;129;01min\u001b[39;00m json_data:\n\u001b[1;32m----> 5\u001b[0m     mermaid_code \u001b[38;5;241m+\u001b[39m\u001b[38;5;241m=\u001b[39m \u001b[38;5;124mf\u001b[39m\u001b[38;5;124m\"\u001b[39m\u001b[38;5;124m    participant \u001b[39m\u001b[38;5;132;01m{\u001b[39;00m\u001b[43mframe\u001b[49m\u001b[43m[\u001b[49m\u001b[38;5;124;43m'\u001b[39;49m\u001b[38;5;124;43msource\u001b[39;49m\u001b[38;5;124;43m'\u001b[39;49m\u001b[43m]\u001b[49m[\u001b[38;5;124m'\u001b[39m\u001b[38;5;124mname\u001b[39m\u001b[38;5;124m'\u001b[39m]\u001b[38;5;132;01m}\u001b[39;00m\u001b[38;5;124m as \u001b[39m\u001b[38;5;132;01m{\u001b[39;00mframe[\u001b[38;5;124m'\u001b[39m\u001b[38;5;124msource\u001b[39m\u001b[38;5;124m'\u001b[39m][\u001b[38;5;124m'\u001b[39m\u001b[38;5;124mname\u001b[39m\u001b[38;5;124m'\u001b[39m]\u001b[38;5;132;01m}\u001b[39;00m\u001b[38;5;130;01m\\n\u001b[39;00m\u001b[38;5;124m\"\u001b[39m\n\u001b[0;32m      6\u001b[0m     mermaid_code \u001b[38;5;241m+\u001b[39m\u001b[38;5;241m=\u001b[39m \u001b[38;5;124mf\u001b[39m\u001b[38;5;124m\"\u001b[39m\u001b[38;5;124m    \u001b[39m\u001b[38;5;132;01m{\u001b[39;00mframe[\u001b[38;5;124m'\u001b[39m\u001b[38;5;124msource\u001b[39m\u001b[38;5;124m'\u001b[39m][\u001b[38;5;124m'\u001b[39m\u001b[38;5;124mname\u001b[39m\u001b[38;5;124m'\u001b[39m]\u001b[38;5;132;01m}\u001b[39;00m\u001b[38;5;124m ->> \u001b[39m\u001b[38;5;132;01m{\u001b[39;00mframe[\u001b[38;5;124m'\u001b[39m\u001b[38;5;124msource\u001b[39m\u001b[38;5;124m'\u001b[39m][\u001b[38;5;124m'\u001b[39m\u001b[38;5;124mname\u001b[39m\u001b[38;5;124m'\u001b[39m]\u001b[38;5;132;01m}\u001b[39;00m\u001b[38;5;124m: Line \u001b[39m\u001b[38;5;132;01m{\u001b[39;00mframe[\u001b[38;5;124m'\u001b[39m\u001b[38;5;124mline\u001b[39m\u001b[38;5;124m'\u001b[39m]\u001b[38;5;132;01m}\u001b[39;00m\u001b[38;5;124m, Column \u001b[39m\u001b[38;5;132;01m{\u001b[39;00mframe[\u001b[38;5;124m'\u001b[39m\u001b[38;5;124mcolumn\u001b[39m\u001b[38;5;124m'\u001b[39m]\u001b[38;5;132;01m}\u001b[39;00m\u001b[38;5;130;01m\\n\u001b[39;00m\u001b[38;5;124m\"\u001b[39m\n\u001b[0;32m      7\u001b[0m \u001b[38;5;28;01mreturn\u001b[39;00m mermaid_code\n",
      "\u001b[1;31mKeyError\u001b[0m: 'source'"
     ]
    }
   ],
   "source": []
  },
  {
   "cell_type": "code",
   "execution_count": 15,
   "metadata": {},
   "outputs": [],
   "source": [
    "import json\n",
    "from pathlib import Path\n",
    "\n",
    "metaJsonPaths = latestDir.glob('**/*.meta.json')\n",
    "json_data = []\n",
    "\n",
    "for metaJsonPath in metaJsonPaths:\n",
    "    metaJson = json.loads(metaJsonPath.read_text())\n",
    "    json_data.append(metaJson)\n",
    "\n",
    "# Function to generate Mermaid sequence diagram\n",
    "def generate_mermaid_sequence(json_data):\n",
    "    mermaid_code = \"\"\n",
    "    mermaid_code += \"```mermaid\\n\"\n",
    "    mermaid_code += \"sequenceDiagram\\n\"\n",
    "    for data in json_data:\n",
    "        frame = data.get('frame', {})\n",
    "        source = frame.get('source', {})\n",
    "        image_info = data.get('imageInfo', {})\n",
    "        image_url = data.get('vscode', '').get('filePath')  # Assuming the image URL is stored under 'imageUrl'\n",
    "        \n",
    "        if frame and source:\n",
    "            mermaid_code += f\"    participant {source['name']} as {source['name']}\\n\"\n",
    "            mermaid_code += f\"    {source['name']} ->> {source['name']}: Line {frame['line']}, Column {frame['column']}\\n\"\n",
    "            \n",
    "            if image_info:\n",
    "                mermaid_code += f\"    note right of {source['name']}: Image Info - Width: {image_info.get('image_width')}, Height: {image_info.get('image_height')}, Format: {image_info.get('format')}\\n\"\n",
    "            \n",
    "            if image_url:\n",
    "                mermaid_code += f\"    note right of {source['name']}: <img src=\\\"{image_url}\\\" />\\n\"\n",
    "                \n",
    "    mermaid_code += \"```\\n\"\n",
    "    return mermaid_code\n",
    "\n",
    "# Generate Mermaid code\n",
    "mermaid_code = generate_mermaid_sequence(json_data)\n",
    "\n",
    "# Output the Mermaid code\n",
    "# print(mermaid_code)\n",
    "\n",
    "with open(\"test.md\", \"w\") as f:\n",
    "    f.write(mermaid_code)"
   ]
  }
 ],
 "metadata": {
  "kernelspec": {
   "display_name": "base",
   "language": "python",
   "name": "python3"
  },
  "language_info": {
   "codemirror_mode": {
    "name": "ipython",
    "version": 3
   },
   "file_extension": ".py",
   "mimetype": "text/x-python",
   "name": "python",
   "nbconvert_exporter": "python",
   "pygments_lexer": "ipython3",
   "version": "3.11.4"
  }
 },
 "nbformat": 4,
 "nbformat_minor": 2
}
